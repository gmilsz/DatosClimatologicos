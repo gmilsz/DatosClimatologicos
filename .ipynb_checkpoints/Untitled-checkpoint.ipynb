{
 "cells": [
  {
   "cell_type": "code",
   "execution_count": 9,
   "id": "7aa947b4",
   "metadata": {},
   "outputs": [],
   "source": [
    "import pandas as pd\n",
    "import os\n",
    "\n",
    "from urllib.request import urlopen\n",
    "from urllib.error import HTTPError\n",
    "from bs4 import BeautifulSoup\n",
    "from tqdm import tqdm\n",
    "from numpy import nan"
   ]
  },
  {
   "cell_type": "code",
   "execution_count": 11,
   "id": "539a03f6",
   "metadata": {},
   "outputs": [],
   "source": [
    "def temperatura_mensual(estacion, annio, mes):\n",
    "    '''\n",
    "    Esta funcion devuelve los datos mensuales de cierta estacion\n",
    "    metereologica.\n",
    "    Args:\n",
    "        estacion (int): Codigo nacional de la estacion metereologica\n",
    "        annio (int): Annio del que se obtendran datos\n",
    "        mes (int): Mes del que se obtendran datos\n",
    "    '''\n",
    "    urlBase = 'https://climatologia.meteochile.gob.cl/application/mensual/temperaturaMediaMensual/'\n",
    "    \n",
    "    while True:\n",
    "        i = 0\n",
    "        try:\n",
    "            html = urlopen(urlBase+str(estacion)+'/'+str(annio)+'/'+str(mes))\n",
    "            break\n",
    "\n",
    "        except HTTPError as e:\n",
    "            i += 1\n",
    "        \n",
    "        if i > 10:\n",
    "            break\n",
    "            \n",
    "    bs = BeautifulSoup(html.read(), 'html.parser')\n",
    "    \n",
    "    dataMensual = pd.DataFrame(columns=['Annio', 'Mes', 'Dia', 'Tminima',\n",
    "                                 'Tmaxima', 'MediaClimatologica',\n",
    "                                 'MediaAritmetica', 'Datos'])\n",
    "    \n",
    "    i=0\n",
    "    for dia in bs.findAll('tr', {'class': 'text-center'}):\n",
    "        dataDia = [annio, mes]\n",
    "        \n",
    "        k=0\n",
    "        for columna in dia.findAll('td'):\n",
    "            if k in [0,1,3,5,6,7]:\n",
    "                dataDia.append(columna.get_text()[1:-1])\n",
    "            k += 1\n",
    "            \n",
    "        if len(dataDia) > 2:\n",
    "            dataMensual.loc[i] = dataDia\n",
    "            i += 1\n",
    "        else:\n",
    "            break\n",
    "            \n",
    "    return dataMensual.replace('.', nan)"
   ]
  },
  {
   "cell_type": "code",
   "execution_count": 13,
   "id": "5d55ba87",
   "metadata": {},
   "outputs": [
    {
     "data": {
      "text/html": [
       "<div>\n",
       "<style scoped>\n",
       "    .dataframe tbody tr th:only-of-type {\n",
       "        vertical-align: middle;\n",
       "    }\n",
       "\n",
       "    .dataframe tbody tr th {\n",
       "        vertical-align: top;\n",
       "    }\n",
       "\n",
       "    .dataframe thead th {\n",
       "        text-align: right;\n",
       "    }\n",
       "</style>\n",
       "<table border=\"1\" class=\"dataframe\">\n",
       "  <thead>\n",
       "    <tr style=\"text-align: right;\">\n",
       "      <th></th>\n",
       "      <th>Annio</th>\n",
       "      <th>Mes</th>\n",
       "      <th>Dia</th>\n",
       "      <th>Tminima</th>\n",
       "      <th>Tmaxima</th>\n",
       "      <th>MediaClimatologica</th>\n",
       "      <th>MediaAritmetica</th>\n",
       "      <th>Datos</th>\n",
       "    </tr>\n",
       "  </thead>\n",
       "  <tbody>\n",
       "  </tbody>\n",
       "</table>\n",
       "</div>"
      ],
      "text/plain": [
       "Empty DataFrame\n",
       "Columns: [Annio, Mes, Dia, Tminima, Tmaxima, MediaClimatologica, MediaAritmetica, Datos]\n",
       "Index: []"
      ]
     },
     "execution_count": 13,
     "metadata": {},
     "output_type": "execute_result"
    }
   ],
   "source": [
    "temperatura_mensual(360020, 2022, 9)"
   ]
  },
  {
   "cell_type": "code",
   "execution_count": 16,
   "id": "1d2189b1",
   "metadata": {},
   "outputs": [],
   "source": [
    "estaciones = pd.read_csv('CatastroEstaciones.csv')['Codigo Nacional']\n",
    "\n",
    "carpeta = 'datosTemperatura'\n",
    "\n",
    "try:\n",
    "    os.mkdir(carpeta)\n",
    "except:\n",
    "    None\n",
    "    \n",
    "for estacion in tqdm(estaciones[:10], leave=False, desc='Estaciones'):\n",
    "    try:\n",
    "        os.mkdir(carpeta+'/'+str(estacion))\n",
    "    except:\n",
    "        None\n",
    "    \n",
    "    for annio in tqdm(range(1900, 2030), leave=False, desc='Annio'):\n",
    "        for mes in range(1,13):\n",
    "            \n",
    "            archivo = str(annio)+'-'+str(mes).zfill(2)+'.csv'\n",
    "            if archivo in os.listdir(carpeta+'/'+archivo+'/'):\n",
    "                continue"
   ]
  }
 ],
 "metadata": {
  "kernelspec": {
   "display_name": "Python 3 (ipykernel)",
   "language": "python",
   "name": "python3"
  },
  "language_info": {
   "codemirror_mode": {
    "name": "ipython",
    "version": 3
   },
   "file_extension": ".py",
   "mimetype": "text/x-python",
   "name": "python",
   "nbconvert_exporter": "python",
   "pygments_lexer": "ipython3",
   "version": "3.8.10"
  }
 },
 "nbformat": 4,
 "nbformat_minor": 5
}
